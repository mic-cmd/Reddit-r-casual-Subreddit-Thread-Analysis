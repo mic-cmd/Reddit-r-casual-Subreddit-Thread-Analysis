{
 "cells": [
  {
   "metadata": {},
   "cell_type": "markdown",
   "source": "",
   "id": "6fcf8768a4f0819b"
  },
  {
   "metadata": {},
   "cell_type": "markdown",
   "source": "In this project, I will step into the shoes of an entry-level data analyst at a social media agency, helping to  create a comprehensive report that analyzes the performance of different categories of social media posts.",
   "id": "666786bc37d9c67b"
  },
  {
   "metadata": {},
   "cell_type": "markdown",
   "source": [
    "## **Project Objectives**\n",
    "\n",
    "Increase client reach and engagement\n",
    "\n",
    "Gain valuable insights that will help improve social media performance\n",
    "\n",
    "Achieve their social media goals and provide data-driven recommendations"
   ],
   "id": "d3874c5431cd88fc"
  },
  {
   "metadata": {},
   "cell_type": "markdown",
   "source": [
    "## **Project Scenario**\n",
    "\n",
    "I am working for a social media marketing company that specializes in promoting brands and products on a popular social media platform. Our team is responsible for analyzing the performance of different types of posts based on categories, such as health, family, food, etc. to help clients optimize their social media strategy and increase their reach and engagement.  \n",
    "\n",
    "dataset: https://www.kaggle.com/datasets/bwandowando/reddit-rcasualuk-subreddit-dataset\n",
    "\n",
    "I will use r/casualUK subreddit threads dataset to clean, analyze and visualize the data. Later, our team will use my analysis to make data-driven recommendations to clients to improve their social media performance. This feature will help the marketing agency deliver posts on time, within budget, and gain fast results."
   ],
   "id": "8606d66b1fa85814"
  },
  {
   "metadata": {},
   "cell_type": "markdown",
   "source": "To do this, I will identify the categories for the post (fitness, tech, family, beauty, etc), process, analyze, and visualize the data. After performing the analysis, I will share my findings, and provide recommendations.",
   "id": "e0e0cb2c695fc244"
  },
  {
   "metadata": {},
   "cell_type": "markdown",
   "source": "# STEP 1: Understand the Data:",
   "id": "a7fe1e2983da49ee"
  },
  {
   "metadata": {
    "ExecuteTime": {
     "end_time": "2024-12-18T10:02:17.351504Z",
     "start_time": "2024-12-18T10:02:17.341541Z"
    }
   },
   "cell_type": "code",
   "source": [
    "# Install required libraries\n",
    "import pandas as pd\n",
    "import matplotlib.pyplot as plt\n",
    "import seaborn as sns\n",
    "from textblob import TextBlob"
   ],
   "id": "eabe0543e9fc0123",
   "outputs": [],
   "execution_count": 33
  },
  {
   "metadata": {
    "ExecuteTime": {
     "end_time": "2024-12-18T10:02:17.376764Z",
     "start_time": "2024-12-18T10:02:17.354992Z"
    }
   },
   "cell_type": "code",
   "source": [
    "# r/CasualUK threads Dataset\n",
    "file_threads = pd.read_csv('/Users/jobaerhossain/Downloads/CasualUK Subreddit Data/casualuk_subreddit_threads.csv')"
   ],
   "id": "62123da7810bcad1",
   "outputs": [],
   "execution_count": 34
  },
  {
   "metadata": {
    "ExecuteTime": {
     "end_time": "2024-12-18T10:02:17.387997Z",
     "start_time": "2024-12-18T10:02:17.378875Z"
    }
   },
   "cell_type": "code",
   "source": "file_threads.head(3)",
   "id": "7720dbb59324fc68",
   "outputs": [
    {
     "data": {
      "text/plain": [
       "                              thread_id                                author  \\\n",
       "0  7c4a15a1-e9e2-5911-a5fb-1a5ad816e4bb  18cf115b-52c3-5d9a-ab71-cc71332ce41e   \n",
       "1  45f4bfef-5b11-59cc-ab3a-e8d8e03462c8  f61034c3-4205-513b-84fb-ef17699cf85f   \n",
       "2  076277f4-a4a5-5f8e-aad2-e6d78c4423f6  b2a0b715-56ce-5528-a5df-338b58b8151f   \n",
       "\n",
       "  distinguished  is_original_content  is_self link_flair_text  locked  \\\n",
       "0           NaN                False     True             NaN   False   \n",
       "1           NaN                False    False             NaN   False   \n",
       "2           NaN                False     True             NaN   False   \n",
       "\n",
       "   num_comments  over_18  score  \\\n",
       "0            10    False      1   \n",
       "1            65    False    110   \n",
       "2            65    False      1   \n",
       "\n",
       "                                            selftext  spoiler  stickied  \\\n",
       "0  Help settle this discussion in our office. Mys...    False     False   \n",
       "1                                                NaN    False     False   \n",
       "2  Argos are selling a Bush DVD player for £22 wh...    False     False   \n",
       "\n",
       "                                               title  upvote_ratio  \\\n",
       "0  Rooves or roofs, what age are you and which do...          0.57   \n",
       "1  Don’t half have to buy people some random sh*t...          0.72   \n",
       "2                       New DVD player, SCART only?!          0.52   \n",
       "\n",
       "  external_url          created_utc               edited  \n",
       "0          NaN  2024-12-12 14:01:24  1970-01-01 00:00:00  \n",
       "1          NaN  2024-12-12 10:49:30  1970-01-01 00:00:00  \n",
       "2          NaN  2024-12-12 10:42:57  1970-01-01 00:00:00  "
      ],
      "text/html": [
       "<div>\n",
       "<style scoped>\n",
       "    .dataframe tbody tr th:only-of-type {\n",
       "        vertical-align: middle;\n",
       "    }\n",
       "\n",
       "    .dataframe tbody tr th {\n",
       "        vertical-align: top;\n",
       "    }\n",
       "\n",
       "    .dataframe thead th {\n",
       "        text-align: right;\n",
       "    }\n",
       "</style>\n",
       "<table border=\"1\" class=\"dataframe\">\n",
       "  <thead>\n",
       "    <tr style=\"text-align: right;\">\n",
       "      <th></th>\n",
       "      <th>thread_id</th>\n",
       "      <th>author</th>\n",
       "      <th>distinguished</th>\n",
       "      <th>is_original_content</th>\n",
       "      <th>is_self</th>\n",
       "      <th>link_flair_text</th>\n",
       "      <th>locked</th>\n",
       "      <th>num_comments</th>\n",
       "      <th>over_18</th>\n",
       "      <th>score</th>\n",
       "      <th>selftext</th>\n",
       "      <th>spoiler</th>\n",
       "      <th>stickied</th>\n",
       "      <th>title</th>\n",
       "      <th>upvote_ratio</th>\n",
       "      <th>external_url</th>\n",
       "      <th>created_utc</th>\n",
       "      <th>edited</th>\n",
       "    </tr>\n",
       "  </thead>\n",
       "  <tbody>\n",
       "    <tr>\n",
       "      <th>0</th>\n",
       "      <td>7c4a15a1-e9e2-5911-a5fb-1a5ad816e4bb</td>\n",
       "      <td>18cf115b-52c3-5d9a-ab71-cc71332ce41e</td>\n",
       "      <td>NaN</td>\n",
       "      <td>False</td>\n",
       "      <td>True</td>\n",
       "      <td>NaN</td>\n",
       "      <td>False</td>\n",
       "      <td>10</td>\n",
       "      <td>False</td>\n",
       "      <td>1</td>\n",
       "      <td>Help settle this discussion in our office. Mys...</td>\n",
       "      <td>False</td>\n",
       "      <td>False</td>\n",
       "      <td>Rooves or roofs, what age are you and which do...</td>\n",
       "      <td>0.57</td>\n",
       "      <td>NaN</td>\n",
       "      <td>2024-12-12 14:01:24</td>\n",
       "      <td>1970-01-01 00:00:00</td>\n",
       "    </tr>\n",
       "    <tr>\n",
       "      <th>1</th>\n",
       "      <td>45f4bfef-5b11-59cc-ab3a-e8d8e03462c8</td>\n",
       "      <td>f61034c3-4205-513b-84fb-ef17699cf85f</td>\n",
       "      <td>NaN</td>\n",
       "      <td>False</td>\n",
       "      <td>False</td>\n",
       "      <td>NaN</td>\n",
       "      <td>False</td>\n",
       "      <td>65</td>\n",
       "      <td>False</td>\n",
       "      <td>110</td>\n",
       "      <td>NaN</td>\n",
       "      <td>False</td>\n",
       "      <td>False</td>\n",
       "      <td>Don’t half have to buy people some random sh*t...</td>\n",
       "      <td>0.72</td>\n",
       "      <td>NaN</td>\n",
       "      <td>2024-12-12 10:49:30</td>\n",
       "      <td>1970-01-01 00:00:00</td>\n",
       "    </tr>\n",
       "    <tr>\n",
       "      <th>2</th>\n",
       "      <td>076277f4-a4a5-5f8e-aad2-e6d78c4423f6</td>\n",
       "      <td>b2a0b715-56ce-5528-a5df-338b58b8151f</td>\n",
       "      <td>NaN</td>\n",
       "      <td>False</td>\n",
       "      <td>True</td>\n",
       "      <td>NaN</td>\n",
       "      <td>False</td>\n",
       "      <td>65</td>\n",
       "      <td>False</td>\n",
       "      <td>1</td>\n",
       "      <td>Argos are selling a Bush DVD player for £22 wh...</td>\n",
       "      <td>False</td>\n",
       "      <td>False</td>\n",
       "      <td>New DVD player, SCART only?!</td>\n",
       "      <td>0.52</td>\n",
       "      <td>NaN</td>\n",
       "      <td>2024-12-12 10:42:57</td>\n",
       "      <td>1970-01-01 00:00:00</td>\n",
       "    </tr>\n",
       "  </tbody>\n",
       "</table>\n",
       "</div>"
      ]
     },
     "execution_count": 35,
     "metadata": {},
     "output_type": "execute_result"
    }
   ],
   "execution_count": 35
  },
  {
   "metadata": {},
   "cell_type": "markdown",
   "source": "I am going to perform EDA to understand more about the data.",
   "id": "3f81dacf6adfb0db"
  },
  {
   "metadata": {
    "ExecuteTime": {
     "end_time": "2024-12-18T10:02:17.392083Z",
     "start_time": "2024-12-18T10:02:17.390038Z"
    }
   },
   "cell_type": "code",
   "source": [
    "# Shape of the data\n",
    "print(\"Thread has: \", file_threads.shape, \"rows and columns\")"
   ],
   "id": "7d72816bbd215f3d",
   "outputs": [
    {
     "name": "stdout",
     "output_type": "stream",
     "text": [
      "Thread has:  (1164, 18) rows and columns\n"
     ]
    }
   ],
   "execution_count": 36
  },
  {
   "metadata": {
    "ExecuteTime": {
     "end_time": "2024-12-18T10:02:17.395201Z",
     "start_time": "2024-12-18T10:02:17.393025Z"
    }
   },
   "cell_type": "code",
   "source": [
    "# data types of columns\n",
    "print(\"Thread: \\n\", file_threads.dtypes)"
   ],
   "id": "b0346342f2d81ce2",
   "outputs": [
    {
     "name": "stdout",
     "output_type": "stream",
     "text": [
      "Thread: \n",
      " thread_id               object\n",
      "author                  object\n",
      "distinguished           object\n",
      "is_original_content       bool\n",
      "is_self                   bool\n",
      "link_flair_text         object\n",
      "locked                    bool\n",
      "num_comments             int64\n",
      "over_18                   bool\n",
      "score                    int64\n",
      "selftext                object\n",
      "spoiler                   bool\n",
      "stickied                  bool\n",
      "title                   object\n",
      "upvote_ratio           float64\n",
      "external_url            object\n",
      "created_utc             object\n",
      "edited                  object\n",
      "dtype: object\n"
     ]
    }
   ],
   "execution_count": 37
  },
  {
   "metadata": {},
   "cell_type": "markdown",
   "source": "# Step 2: Data Cleaning:",
   "id": "657c91085323c49"
  },
  {
   "metadata": {
    "ExecuteTime": {
     "end_time": "2024-12-18T10:02:17.401374Z",
     "start_time": "2024-12-18T10:02:17.396519Z"
    }
   },
   "cell_type": "code",
   "source": [
    "# we are only interested in original posts. Therefore, getting rid of the reposts:\n",
    "file_threads[\"selftext\"].duplicated().drop_duplicates(keep=\"first\", inplace= True)\n",
    "\n",
    "# identify rows where \"selftext\" is missing or empty\n",
    "missing_or_empty = file_threads[\"selftext\"].isna()\n",
    "\n",
    "# filter the dataframe to remove these rows\n",
    "file_threads = file_threads[~missing_or_empty]"
   ],
   "id": "3bf2ee3c786c3a73",
   "outputs": [],
   "execution_count": 38
  },
  {
   "metadata": {},
   "cell_type": "markdown",
   "source": "# Step 3: Data Categorization:",
   "id": "eadbb290f848c73a"
  },
  {
   "metadata": {
    "ExecuteTime": {
     "end_time": "2024-12-18T10:02:17.508566Z",
     "start_time": "2024-12-18T10:02:17.402649Z"
    }
   },
   "cell_type": "code",
   "source": [
    "file_threads.insert(column= \"category\", loc= 11, value= None )\n",
    "# Define categories and their associated keywords\n",
    "categories = {\n",
    "    \"fitness\": [\"fitness\", \"workout\", \"exercise\", \"gym\", \"health\", \"running\", \"yoga\", \"weightlifting\", \"bodybuilding\", \"cardio\", \"strength training\", \"endurance\", \"flexibility\", \"mobility\", \"crossfit\", \"aerobics\", \"zumba\", \"pilates\", \"barre\", \"spinning\", \"cycling\", \"swimming\", \"boxing\", \"kickboxing\", \"martial arts\", \"dance\", \"aerobics\", \"calisthenics\", \"HIIT\", \"Tabata\", \"circuit training\", \"bootcamp\", \"personal training\", \"group fitness\", \"fitness class\", \"fitness studio\", \"fitness center\", \"fitness club\", \"fitness gym\", \"fitness trainer\", \"fitness coach\", \"fitness instructor\", \"fitness expert\", \"fitness professional\", \"fitness enthusiast\", \"fitness beginner\", \"fitness intermediate\", \"fitness advanced\", \"fitness goals\", \"fitness progress\", \"fitness journey\", \"fitness transformation\", \"fitness motivation\", \"fitness inspiration\", \"fitness tips\", \"fitness advice\", \"fitness resources\", \"fitness books\", \"fitness blogs\", \"fitness podcasts\", \"fitness forums\", \"fitness groups\", \"fitness classes\", \"fitness workshops\", \"fitness coaching\", \"fitness therapy\", \"fitness counseling\", \"fitness support\", \"fitness community\", \"fitness network\", \"fitness association\", \"fitness organization\", \"fitness charity\", \"fitness foundation\", \"fitness initiative\", \"fitness program\", \"fitness campaign\", \"fitness event\", \"fitness conference\", \"fitness seminar\", \"fitness webinar\"],\n",
    "    \"tech\": [\"technology\", \"tech\", \"software\", \"hardware\", \"gadgets\", \"iphone\", \"ai\", \"samsung\", \"device\", \"programming\", \"Machine Learning\", \"Artificial Intelligence\", \"Big Data\", \"Blockchain\", \"IoT\", \"Cybersecurity\", \"Data Science\", \"Network Security\", \"Database Management\", \"Web Development\", \"Software Development\", \"Cloud Computing\", \"API Integration\", \"Mobile App Development\", \"Game Development\", \"UI/UX Design\", \"Digital Marketing\", \"E-commerce\", \"Social Media Marketing\", \"Content Marketing\", \"SEO\", \"PPC\", \"Email Marketing\", \"Influencer Marketing\", \"Affiliate Marketing\", \"Online Advertising\", \"Video Marketing\", \"Analytics\", \"Marketing Automation\", \"Customer Relationship Management\", \"Sales Funnel\", \"Lead Generation\", \"Conversion Rate Optimization\", \"A/B Testing\", \"Multivariate Testing\", \"Landing Page Optimization\", \"Copywriting\", \"Content Strategy\", \"Brand Strategy\", \"Brand Identity\", \"Logo Design\", \"Graphic Design\", \"Video Production\", \"Photography\", \"Illustration\", \"Animation\", \"Motion Graphics\", \"Visual Effects\", \"3D Modeling\", \"Augmented Reality\", \"Virtual Reality\", \"Web Design\", \"Mobile Design\", \"Print Design\", \"Packaging Design\", \"Product Design\", \"Industrial Design\", \"Interior Design\", \"Fashion Design\", \"Textile Design\", \"Jewelry Design\", \"Furniture Design\", \"Lighting Design\", \"Architectural Design\", \"Landscape Design\", \"Urban Design\", \"Sustainable Design\", \"Design Thinking\", \"User-Centered Design\", \"Human-Centered Design\", \"Service Design\", \"Experience Design\", \"Interaction Design\", \"Information Architecture\", \"Usability Testing\", \"User Research\", \"User Persona\", \"User Journey\", \"Wireframe\", \"Prototyping\", \"Mockup\", \"User Interface\", \"User Experience\"],\n",
    "    \"family\": [\"family\", \"parenting\", \"children\", \"home\", \"relationships\", \"marriage\", \"kids\", \"baby\", \"mom\", \"dad\", \"mother\", \"father\", \"sister\", \"brother\", \"grandparents\", \"aunt\", \"uncle\", \"cousin\", \"niece\", \"nephew\", \"in-laws\", \"step-parents\", \"single parent\", \"adoption\", \"foster care\", \"childcare\", \"nanny\", \"babysitter\", \"preschool\", \"elementary school\", \"middle school\", \"high school\", \"college\", \"university\", \"homework\", \"extracurricular activities\", \"sports\", \"music\", \"dance\", \"art\", \"crafts\", \"cooking\", \"baking\", \"gardening\", \"outdoor activities\", \"family vacation\", \"family traditions\", \"family values\", \"family dynamics\", \"family communication\", \"family support\", \"family conflict\", \"family counseling\", \"family therapy\", \"parenting styles\", \"parenting challenges\", \"parenting tips\", \"parenting advice\", \"parenting resources\", \"parenting books\", \"parenting blogs\", \"parenting podcasts\", \"parenting forums\", \"parenting groups\", \"parenting classes\", \"parenting workshops\", \"parenting coaching\", \"parenting therapy\", \"parenting counseling\", \"parenting support\", \"parenting community\", \"parenting network\", \"parenting association\", \"parenting organization\", \"parenting charity\", \"parenting foundation\", \"parenting initiative\", \"parenting program\", \"parenting campaign\", \"parenting event\", \"parenting conference\", \"parenting seminar\", \"parenting webinar\"],\n",
    "    \"beauty\": [\"beauty\", \"makeup\", \"skincare\", \"cosmetics\", \"fashion\", \"hair\", \"nails\", \"skin\", \"body\", \"face\", \"eyes\", \"lips\", \"cheeks\", \"eyebrows\", \"eyelashes\", \"eyeliner\", \"mascara\", \"eyeshadow\", \"foundation\", \"concealer\", \"powder\", \"blush\", \"bronzer\", \"highlighter\", \"lipstick\", \"lip gloss\", \"lip liner\", \"lip balm\", \"lip scrub\", \"lip mask\", \"lip plumper\", \"lip stain\", \"lip tint\", \"lip oil\", \"lip treatment\", \"lip care\", \"lip protection\", \"lip enhancement\", \"lip restoration\", \"lip rejuvenation\", \"lip augmentation\", \"lip surgery\", \"lip filler\", \"lip injection\", \"lip implant\", \"lip lift\", \"lip reduction\", \"lip reshaping\", \"lip sculpting\", \"lip shaping\", \"lip contouring\"],\n",
    "}\n",
    "\n",
    "def categorize_this(text):\n",
    "    for label, contents in categories.items():\n",
    "        for content in contents:\n",
    "            if content.lower() in text.lower():\n",
    "                return label\n",
    "    return \"other\"\n",
    "\n",
    "# Apply the categorization function to the 'selftext' column and then insert the respective values to category column\n",
    "file_threads[\"category\"] = file_threads[\"selftext\"].apply(categorize_this)\n",
    "# Display the first few entries to verify\n",
    "file_threads.head(5)"
   ],
   "id": "4137ebf8951a8a0c",
   "outputs": [
    {
     "data": {
      "text/plain": [
       "                              thread_id                                author  \\\n",
       "0  7c4a15a1-e9e2-5911-a5fb-1a5ad816e4bb  18cf115b-52c3-5d9a-ab71-cc71332ce41e   \n",
       "2  076277f4-a4a5-5f8e-aad2-e6d78c4423f6  b2a0b715-56ce-5528-a5df-338b58b8151f   \n",
       "3  a00497e2-8ded-5ee5-bd8a-a1d9d6badcb6  a224ce1a-02fb-5501-b7ad-1ed5f19b131a   \n",
       "4  9d87e787-e912-543e-aa2d-4aa95959c84a  7e280b9e-4189-51b6-85b9-52cf37b9a106   \n",
       "5  a94b3c06-392d-58c6-be5d-da54ca11b3d7  c608878e-a918-59f9-94b8-cfd5743d8f92   \n",
       "\n",
       "  distinguished  is_original_content  is_self link_flair_text  locked  \\\n",
       "0           NaN                False     True             NaN   False   \n",
       "2           NaN                False     True             NaN   False   \n",
       "3           NaN                False     True             NaN   False   \n",
       "4           NaN                False     True             NaN   False   \n",
       "5           NaN                False    False             NaN   False   \n",
       "\n",
       "   num_comments  over_18  score  \\\n",
       "0            10    False      1   \n",
       "2            65    False      1   \n",
       "3            44    False     18   \n",
       "4            56    False      9   \n",
       "5            41    False    102   \n",
       "\n",
       "                                            selftext category  spoiler  \\\n",
       "0  Help settle this discussion in our office. Mys...    other    False   \n",
       "2  Argos are selling a Bush DVD player for £22 wh...     tech    False   \n",
       "3  To get a card for a lady who told me her husba...     tech    False   \n",
       "4  I’m a reasonable two finger typist, not terrib...     tech    False   \n",
       "5  This little beauty popped out of a small hedge...   beauty    False   \n",
       "\n",
       "   stickied                                              title  upvote_ratio  \\\n",
       "0     False  Rooves or roofs, what age are you and which do...          0.57   \n",
       "2     False                       New DVD player, SCART only?!          0.52   \n",
       "3     False                             Would it be taboo....?          0.63   \n",
       "4     False  Has anyone learned to touch type later in life...          0.73   \n",
       "5     False                                        Thanks deer          0.91   \n",
       "\n",
       "  external_url          created_utc               edited  \n",
       "0          NaN  2024-12-12 14:01:24  1970-01-01 00:00:00  \n",
       "2          NaN  2024-12-12 10:42:57  1970-01-01 00:00:00  \n",
       "3          NaN  2024-12-12 09:26:20  2024-12-12 09:52:51  \n",
       "4          NaN  2024-12-12 08:58:46  1970-01-01 00:00:00  \n",
       "5          NaN  2024-12-12 08:47:20  1970-01-01 00:00:00  "
      ],
      "text/html": [
       "<div>\n",
       "<style scoped>\n",
       "    .dataframe tbody tr th:only-of-type {\n",
       "        vertical-align: middle;\n",
       "    }\n",
       "\n",
       "    .dataframe tbody tr th {\n",
       "        vertical-align: top;\n",
       "    }\n",
       "\n",
       "    .dataframe thead th {\n",
       "        text-align: right;\n",
       "    }\n",
       "</style>\n",
       "<table border=\"1\" class=\"dataframe\">\n",
       "  <thead>\n",
       "    <tr style=\"text-align: right;\">\n",
       "      <th></th>\n",
       "      <th>thread_id</th>\n",
       "      <th>author</th>\n",
       "      <th>distinguished</th>\n",
       "      <th>is_original_content</th>\n",
       "      <th>is_self</th>\n",
       "      <th>link_flair_text</th>\n",
       "      <th>locked</th>\n",
       "      <th>num_comments</th>\n",
       "      <th>over_18</th>\n",
       "      <th>score</th>\n",
       "      <th>selftext</th>\n",
       "      <th>category</th>\n",
       "      <th>spoiler</th>\n",
       "      <th>stickied</th>\n",
       "      <th>title</th>\n",
       "      <th>upvote_ratio</th>\n",
       "      <th>external_url</th>\n",
       "      <th>created_utc</th>\n",
       "      <th>edited</th>\n",
       "    </tr>\n",
       "  </thead>\n",
       "  <tbody>\n",
       "    <tr>\n",
       "      <th>0</th>\n",
       "      <td>7c4a15a1-e9e2-5911-a5fb-1a5ad816e4bb</td>\n",
       "      <td>18cf115b-52c3-5d9a-ab71-cc71332ce41e</td>\n",
       "      <td>NaN</td>\n",
       "      <td>False</td>\n",
       "      <td>True</td>\n",
       "      <td>NaN</td>\n",
       "      <td>False</td>\n",
       "      <td>10</td>\n",
       "      <td>False</td>\n",
       "      <td>1</td>\n",
       "      <td>Help settle this discussion in our office. Mys...</td>\n",
       "      <td>other</td>\n",
       "      <td>False</td>\n",
       "      <td>False</td>\n",
       "      <td>Rooves or roofs, what age are you and which do...</td>\n",
       "      <td>0.57</td>\n",
       "      <td>NaN</td>\n",
       "      <td>2024-12-12 14:01:24</td>\n",
       "      <td>1970-01-01 00:00:00</td>\n",
       "    </tr>\n",
       "    <tr>\n",
       "      <th>2</th>\n",
       "      <td>076277f4-a4a5-5f8e-aad2-e6d78c4423f6</td>\n",
       "      <td>b2a0b715-56ce-5528-a5df-338b58b8151f</td>\n",
       "      <td>NaN</td>\n",
       "      <td>False</td>\n",
       "      <td>True</td>\n",
       "      <td>NaN</td>\n",
       "      <td>False</td>\n",
       "      <td>65</td>\n",
       "      <td>False</td>\n",
       "      <td>1</td>\n",
       "      <td>Argos are selling a Bush DVD player for £22 wh...</td>\n",
       "      <td>tech</td>\n",
       "      <td>False</td>\n",
       "      <td>False</td>\n",
       "      <td>New DVD player, SCART only?!</td>\n",
       "      <td>0.52</td>\n",
       "      <td>NaN</td>\n",
       "      <td>2024-12-12 10:42:57</td>\n",
       "      <td>1970-01-01 00:00:00</td>\n",
       "    </tr>\n",
       "    <tr>\n",
       "      <th>3</th>\n",
       "      <td>a00497e2-8ded-5ee5-bd8a-a1d9d6badcb6</td>\n",
       "      <td>a224ce1a-02fb-5501-b7ad-1ed5f19b131a</td>\n",
       "      <td>NaN</td>\n",
       "      <td>False</td>\n",
       "      <td>True</td>\n",
       "      <td>NaN</td>\n",
       "      <td>False</td>\n",
       "      <td>44</td>\n",
       "      <td>False</td>\n",
       "      <td>18</td>\n",
       "      <td>To get a card for a lady who told me her husba...</td>\n",
       "      <td>tech</td>\n",
       "      <td>False</td>\n",
       "      <td>False</td>\n",
       "      <td>Would it be taboo....?</td>\n",
       "      <td>0.63</td>\n",
       "      <td>NaN</td>\n",
       "      <td>2024-12-12 09:26:20</td>\n",
       "      <td>2024-12-12 09:52:51</td>\n",
       "    </tr>\n",
       "    <tr>\n",
       "      <th>4</th>\n",
       "      <td>9d87e787-e912-543e-aa2d-4aa95959c84a</td>\n",
       "      <td>7e280b9e-4189-51b6-85b9-52cf37b9a106</td>\n",
       "      <td>NaN</td>\n",
       "      <td>False</td>\n",
       "      <td>True</td>\n",
       "      <td>NaN</td>\n",
       "      <td>False</td>\n",
       "      <td>56</td>\n",
       "      <td>False</td>\n",
       "      <td>9</td>\n",
       "      <td>I’m a reasonable two finger typist, not terrib...</td>\n",
       "      <td>tech</td>\n",
       "      <td>False</td>\n",
       "      <td>False</td>\n",
       "      <td>Has anyone learned to touch type later in life...</td>\n",
       "      <td>0.73</td>\n",
       "      <td>NaN</td>\n",
       "      <td>2024-12-12 08:58:46</td>\n",
       "      <td>1970-01-01 00:00:00</td>\n",
       "    </tr>\n",
       "    <tr>\n",
       "      <th>5</th>\n",
       "      <td>a94b3c06-392d-58c6-be5d-da54ca11b3d7</td>\n",
       "      <td>c608878e-a918-59f9-94b8-cfd5743d8f92</td>\n",
       "      <td>NaN</td>\n",
       "      <td>False</td>\n",
       "      <td>False</td>\n",
       "      <td>NaN</td>\n",
       "      <td>False</td>\n",
       "      <td>41</td>\n",
       "      <td>False</td>\n",
       "      <td>102</td>\n",
       "      <td>This little beauty popped out of a small hedge...</td>\n",
       "      <td>beauty</td>\n",
       "      <td>False</td>\n",
       "      <td>False</td>\n",
       "      <td>Thanks deer</td>\n",
       "      <td>0.91</td>\n",
       "      <td>NaN</td>\n",
       "      <td>2024-12-12 08:47:20</td>\n",
       "      <td>1970-01-01 00:00:00</td>\n",
       "    </tr>\n",
       "  </tbody>\n",
       "</table>\n",
       "</div>"
      ]
     },
     "execution_count": 39,
     "metadata": {},
     "output_type": "execute_result"
    }
   ],
   "execution_count": 39
  },
  {
   "metadata": {},
   "cell_type": "markdown",
   "source": "# Step 4: Data Analysis:",
   "id": "e889dae23eb730d6"
  },
  {
   "metadata": {
    "ExecuteTime": {
     "end_time": "2024-12-18T10:02:17.516894Z",
     "start_time": "2024-12-18T10:02:17.509529Z"
    }
   },
   "cell_type": "code",
   "source": [
    "# what kind of posts are more engaging based on number of comments and score?\n",
    "file_threads.groupby(by=\"category\")[[\"score\", \"num_comments\"]].mean().sort_values(by= \"num_comments\", ascending= False)"
   ],
   "id": "337af65a066b444c",
   "outputs": [
    {
     "data": {
      "text/plain": [
       "                score  num_comments\n",
       "category                           \n",
       "fitness   1115.714286    162.607143\n",
       "tech       535.184426    141.131148\n",
       "beauty     118.133333    113.733333\n",
       "other      601.780059    105.222874\n",
       "family     242.148760     99.702479"
      ],
      "text/html": [
       "<div>\n",
       "<style scoped>\n",
       "    .dataframe tbody tr th:only-of-type {\n",
       "        vertical-align: middle;\n",
       "    }\n",
       "\n",
       "    .dataframe tbody tr th {\n",
       "        vertical-align: top;\n",
       "    }\n",
       "\n",
       "    .dataframe thead th {\n",
       "        text-align: right;\n",
       "    }\n",
       "</style>\n",
       "<table border=\"1\" class=\"dataframe\">\n",
       "  <thead>\n",
       "    <tr style=\"text-align: right;\">\n",
       "      <th></th>\n",
       "      <th>score</th>\n",
       "      <th>num_comments</th>\n",
       "    </tr>\n",
       "    <tr>\n",
       "      <th>category</th>\n",
       "      <th></th>\n",
       "      <th></th>\n",
       "    </tr>\n",
       "  </thead>\n",
       "  <tbody>\n",
       "    <tr>\n",
       "      <th>fitness</th>\n",
       "      <td>1115.714286</td>\n",
       "      <td>162.607143</td>\n",
       "    </tr>\n",
       "    <tr>\n",
       "      <th>tech</th>\n",
       "      <td>535.184426</td>\n",
       "      <td>141.131148</td>\n",
       "    </tr>\n",
       "    <tr>\n",
       "      <th>beauty</th>\n",
       "      <td>118.133333</td>\n",
       "      <td>113.733333</td>\n",
       "    </tr>\n",
       "    <tr>\n",
       "      <th>other</th>\n",
       "      <td>601.780059</td>\n",
       "      <td>105.222874</td>\n",
       "    </tr>\n",
       "    <tr>\n",
       "      <th>family</th>\n",
       "      <td>242.148760</td>\n",
       "      <td>99.702479</td>\n",
       "    </tr>\n",
       "  </tbody>\n",
       "</table>\n",
       "</div>"
      ]
     },
     "execution_count": 40,
     "metadata": {},
     "output_type": "execute_result"
    }
   ],
   "execution_count": 40
  },
  {
   "metadata": {
    "ExecuteTime": {
     "end_time": "2024-12-18T10:02:17.520751Z",
     "start_time": "2024-12-18T10:02:17.517422Z"
    }
   },
   "cell_type": "code",
   "source": [
    "# which categories have higher upvote ratios, indicating positive reception.\n",
    "file_threads.groupby(\"category\")[\"upvote_ratio\"].mean().sort_values(ascending= False)"
   ],
   "id": "d6b0c4eb224ab084",
   "outputs": [
    {
     "data": {
      "text/plain": [
       "category\n",
       "other      0.798123\n",
       "tech       0.788607\n",
       "fitness    0.782143\n",
       "beauty     0.779333\n",
       "family     0.752562\n",
       "Name: upvote_ratio, dtype: float64"
      ]
     },
     "execution_count": 41,
     "metadata": {},
     "output_type": "execute_result"
    }
   ],
   "execution_count": 41
  },
  {
   "metadata": {
    "ExecuteTime": {
     "end_time": "2024-12-18T10:02:17.648311Z",
     "start_time": "2024-12-18T10:02:17.522798Z"
    }
   },
   "cell_type": "code",
   "source": [
    "## Best time to post on reddit based on number of comments per post:\n",
    "# created_utc column is in Unix timestamp format. I will convert it to datetime format for better understanding.\n",
    "file_threads[\"created_utc\"] = pd.to_datetime(file_threads[\"created_utc\"])\n",
    "# extract hour from created_utc\n",
    "file_threads[\"hour\"] = file_threads[\"created_utc\"].dt.hour\n",
    "# put the hours into 3 bins: Morning, Afternoon, Evening\n",
    "file_threads[\"hour\"] = pd.cut(file_threads[\"hour\"], bins=[0, 11, 18, 23], labels=[\"Morning\", \"Afternoon\", \"Evening\"])\n",
    "file_threads.groupby(by = \"hour\")[\"num_comments\"].median().sort_values(ascending=False).plot(kind = \"bar\", title = \"Median number of comments by time of the day\")"
   ],
   "id": "96b6624e487c6b44",
   "outputs": [
    {
     "name": "stderr",
     "output_type": "stream",
     "text": [
      "/var/folders/f0/850z22vd73190gbkx3wrzrxh0000gn/T/ipykernel_1574/2890969227.py:8: FutureWarning: The default of observed=False is deprecated and will be changed to True in a future version of pandas. Pass observed=False to retain current behavior or observed=True to adopt the future default and silence this warning.\n",
      "  file_threads.groupby(by = \"hour\")[\"num_comments\"].median().sort_values(ascending=False).plot(kind = \"bar\", title = \"Median number of comments by time of the day\")\n"
     ]
    },
    {
     "data": {
      "text/plain": [
       "<Axes: title={'center': 'Median number of comments by time of the day'}, xlabel='hour'>"
      ]
     },
     "execution_count": 42,
     "metadata": {},
     "output_type": "execute_result"
    },
    {
     "data": {
      "text/plain": [
       "<Figure size 640x480 with 1 Axes>"
      ],
      "image/png": "[encoded data removed]"
     },
     "metadata": {},
     "output_type": "display_data"
    }
   ],
   "execution_count": 42
  },
  {
   "metadata": {},
   "cell_type": "markdown",
   "source": "# Step 5: Data Visualization:",
   "id": "c95d113cc3ede550"
  },
  {
   "metadata": {
    "ExecuteTime": {
     "end_time": "2024-12-18T10:02:17.810817Z",
     "start_time": "2024-12-18T10:02:17.650296Z"
    }
   },
   "cell_type": "code",
   "source": [
    "# Let's find out the relationship between num_comments and score\n",
    "x = file_threads[\"num_comments\"]\n",
    "y = file_threads[\"score\"]\n",
    "\n",
    "plt.figure(figsize=(10, 6))\n",
    "sns.regplot(data=file_threads, x= x, y=y)\n",
    "plt.xlabel('comments')  \n",
    "plt.ylabel('score') \n",
    "plt.title('comments/score')\n",
    "plt.show()\n",
    "# As num of comments increases the score slightly increases."
   ],
   "id": "a6debe13f3ea5943",
   "outputs": [
    {
     "data": {
      "text/plain": [
       "<Figure size 1000x600 with 1 Axes>"
      ],
      "image/png": "[encoded data removed]"
     },
     "metadata": {},
     "output_type": "display_data"
    }
   ],
   "execution_count": 43
  },
  {
   "metadata": {
    "ExecuteTime": {
     "end_time": "2024-12-18T10:02:18.165057Z",
     "start_time": "2024-12-18T10:02:17.812441Z"
    }
   },
   "cell_type": "code",
   "source": [
    "# Let's see how user sentiment relates to score and num_comments.\n",
    "\n",
    "file_threads['sentiment'] = file_threads['selftext'].apply(lambda x: TextBlob(x).sentiment.polarity)\n",
    "correlation = file_threads[['sentiment', 'score', 'num_comments']].corr()\n",
    "sns.heatmap(correlation, annot=True, cmap='coolwarm')\n",
    "plt.show()"
   ],
   "id": "85499be8f2d6a3a4",
   "outputs": [
    {
     "data": {
      "text/plain": [
       "<Figure size 640x480 with 2 Axes>"
      ],
      "image/png": "[encoded data removed]"
     },
     "metadata": {},
     "output_type": "display_data"
    }
   ],
   "execution_count": 44
  },
  {
   "metadata": {
    "ExecuteTime": {
     "end_time": "2024-12-18T10:02:18.253671Z",
     "start_time": "2024-12-18T10:02:18.166518Z"
    }
   },
   "cell_type": "code",
   "source": [
    "# Correlation Between Content Length and Engagement:\n",
    "\n",
    "file_threads[\"content_length\"] = file_threads[\"selftext\"].apply(len)\n",
    "correlation= file_threads[[\"content_length\", \"num_comments\", \"score\"]].corr()\n",
    "sns.heatmap(correlation, annot= True, cmap= \"coolwarm\")\n",
    "plt.show()\n"
   ],
   "id": "1330f9cbe0606712",
   "outputs": [
    {
     "data": {
      "text/plain": [
       "<Figure size 640x480 with 2 Axes>"
      ],
      "image/png": "[encoded data removed]"
     },
     "metadata": {},
     "output_type": "display_data"
    }
   ],
   "execution_count": 45
  }
 ],
 "metadata": {
  "kernelspec": {
   "display_name": "Python 3",
   "language": "python",
   "name": "python3"
  },
  "language_info": {
   "codemirror_mode": {
    "name": "ipython",
    "version": 2
   },
   "file_extension": ".py",
   "mimetype": "text/x-python",
   "name": "python",
   "nbconvert_exporter": "python",
   "pygments_lexer": "ipython2",
   "version": "2.7.6"
  }
 },
 "nbformat": 4,
 "nbformat_minor": 5
}
